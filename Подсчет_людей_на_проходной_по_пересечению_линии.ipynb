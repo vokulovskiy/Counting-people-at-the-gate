{
  "nbformat": 4,
  "nbformat_minor": 0,
  "metadata": {
    "colab": {
      "provenance": [],
      "authorship_tag": "ABX9TyO/INAivnrtINd+8Dw7AjGw",
      "include_colab_link": true
    },
    "kernelspec": {
      "name": "python3",
      "display_name": "Python 3"
    },
    "language_info": {
      "name": "python"
    },
    "accelerator": "GPU",
    "gpuClass": "standard"
  },
  "cells": [
    {
      "cell_type": "markdown",
      "metadata": {
        "id": "view-in-github",
        "colab_type": "text"
      },
      "source": [
        "<a href=\"https://colab.research.google.com/github/vokulovskiy/Counting-people-at-the-gate/blob/main/%D0%9F%D0%BE%D0%B4%D1%81%D1%87%D0%B5%D1%82_%D0%BB%D1%8E%D0%B4%D0%B5%D0%B9_%D0%BD%D0%B0_%D0%BF%D1%80%D0%BE%D1%85%D0%BE%D0%B4%D0%BD%D0%BE%D0%B9_%D0%BF%D0%BE_%D0%BF%D0%B5%D1%80%D0%B5%D1%81%D0%B5%D1%87%D0%B5%D0%BD%D0%B8%D1%8E_%D0%BB%D0%B8%D0%BD%D0%B8%D0%B8.ipynb\" target=\"_parent\"><img src=\"https://colab.research.google.com/assets/colab-badge.svg\" alt=\"Open In Colab\"/></a>"
      ]
    },
    {
      "cell_type": "code",
      "source": [
        "%pip install ultralytics\n",
        "%pip install supervision\n",
        "## Подключение гугл диска для сохранения модели\n",
        "from google.colab import drive\n",
        "drive.mount('/content/gdrive')\n",
        "# Tестовое видео /content/gdrive/MyDrive/models/camera1_01.mp4"
      ],
      "metadata": {
        "id": "BWi6M3KsAIGf"
      },
      "execution_count": null,
      "outputs": []
    },
    {
      "cell_type": "code",
      "source": [
        "#Подсчет людей пересекающих линию(мод)\n",
        "import cv2\n",
        "\n",
        "from ultralytics import YOLO\n",
        "import supervision as sv\n",
        "from supervision.notebook.utils import show_frame_in_notebook\n",
        "import numpy as np\n",
        "from google.colab.patches import cv2_imshow\n",
        "from IPython import display\n",
        "from supervision import VideoInfo, VideoSink\n",
        "\n",
        "%matplotlib inline\n",
        "display.clear_output()\n",
        "\n",
        "\n",
        "# Задаем координаты начала и конца линии, которую мы будем использовать для подсчета проходящих объектов\n",
        "#Camera1\n",
        "#LINE_START = sv.Point(300,800)\n",
        "#LINE_END = sv.Point(1000,600)\n",
        "#Camera2\n",
        "#LINE_START = sv.Point(220,740)\n",
        "#LINE_END = sv.Point(690,700)\n",
        "#Camera3\n",
        "LINE_START = sv.Point(350,900)\n",
        "LINE_END = sv.Point(900,750)\n",
        "\n",
        "# Создаем объекты для работы с подсчетом объектов, аннотированием линии и аннотированием прямоугольных рамок вокруг объектов\n",
        "line_counter = sv.LineZone(start=LINE_START, end=LINE_END)\n",
        "line_annotator = sv.LineZoneAnnotator(thickness=2, text_thickness=1, text_scale=0.5)\n",
        "box_annotator = sv.BoxAnnotator(\n",
        "    thickness=2,\n",
        "    text_thickness=1,\n",
        "    text_scale=0.5\n",
        ")\n",
        "box_annotator_c = sv.BoxAnnotator(\n",
        "    thickness=2,\n",
        "    text_thickness=1,\n",
        "    text_scale=0.5,\n",
        "    color=sv.Color.white()\n",
        ")\n",
        "path='/content/gdrive/MyDrive/models/'\n",
        "file_in='camera3_01.mp4'\n",
        "file_out='camera3_01_mod.mp4'\n",
        "video_info = VideoInfo.from_video_path(video_path=path+file_in)\n",
        "# Создаем экземпляр модели YOLO\n",
        "model = YOLO(\"yolov8m.pt\")\n",
        "kadr = 0\n",
        "\n",
        "#Запись результата \n",
        "with VideoSink(target_path=path+file_out, video_info=video_info) as s:\n",
        "    # Итерируемся по кадрам видео\n",
        "    for result in model.track(source=path+file_in, show=True, stream=True, agnostic_nms=True):\n",
        "        \n",
        "        # Получаем текущий кадр и результаты детекции\n",
        "        frame = result.orig_img\n",
        "        detections = sv.Detections.from_yolov8(result)\n",
        "        kadr += 1\n",
        "\n",
        "        # Присваиваем каждому объекту ID, чтобы отслеживать его в последующих кадрах\n",
        "        if result.boxes.id is not None:\n",
        "            detections.tracker_id = result.boxes.id.cpu().numpy().astype(int)\n",
        "        \n",
        "        # Оставляем только объекты, соответствующие нужным классам\n",
        "        detections = detections[(detections.class_id == 0)]\n",
        "\n",
        "        # Формируем метки для объектов\n",
        "        labels = [\n",
        "            f\"{tracker_id} {model.model.names[class_id]} {confidence:0.2f}\"\n",
        "            for _, confidence, class_id, tracker_id\n",
        "            in detections\n",
        "        ]\n",
        "\n",
        "        # Аннотируем прямоугольными рамками объекты на кадре\n",
        "        frame = box_annotator.annotate(\n",
        "            scene=frame, \n",
        "            detections=detections,\n",
        "            labels=labels\n",
        "        )\n",
        "        #Умеьшаем рамки для детектирования в n раз\n",
        "        n=10\n",
        "        if result.boxes.id is not None:\n",
        "            for i in range(len(detections.xyxy)):\n",
        "                x1=detections.xyxy[i][0]\n",
        "                y1=detections.xyxy[i][1]\n",
        "                x2=detections.xyxy[i][2]\n",
        "                y2=detections.xyxy[i][3]\n",
        "                detections.xyxy[i][0]=x1+(x2-x1)/2-(x2-x1)/n\n",
        "                detections.xyxy[i][1]=y1+(y2-y1)/2-(y2-y1)/n\n",
        "                detections.xyxy[i][2]=x1+(x2-x1)/2+(x2-x1)/n\n",
        "                detections.xyxy[i][3]=y1+(y2-y1)/2+(y2-y1)/n\n",
        "\n",
        "        # Рисуем прямоугольные рамки центров объектов на кадре\n",
        "        frame = box_annotator_c.annotate(\n",
        "            scene=frame, \n",
        "            detections=detections,\n",
        "            labels=None, skip_label=True\n",
        "        )\n",
        "        # Подсчитываем количество объектов, пересекающих линию\n",
        "        line_counter.trigger(detections=detections)\n",
        "        \n",
        "        # Аннотируем линию на кадре\n",
        "        line_annotator.annotate(frame=frame, line_counter=line_counter)\n",
        "\n",
        "        # Отображаем кадр\n",
        "        s.write_frame(frame=frame)\n",
        "        #display.clear_output()\n",
        "        #show_frame_in_notebook(frame, (16, 16))\n",
        "        #cv2_imshow(frame)\n",
        "        #cv2.imshow(\"yolov8\", frame)\n",
        "\n",
        "        # Выходим из цикла, если пользователь нажал клавишу ESC\n",
        "        if (cv2.waitKey(30) == 27):\n",
        "            break\n"
      ],
      "metadata": {
        "id": "Z7VF5h2NtkFF"
      },
      "execution_count": null,
      "outputs": []
    },
    {
      "cell_type": "code",
      "source": [
        "Результаты\n",
        "1 проходная: https://drive.google.com/file/d/1-3zJb_yzwqpcIzdx7OfAKuN-0LRAWbwi/view?usp=sharing\n",
        "\n",
        "2 проходная: https://drive.google.com/file/d/1-8-JoQWtt1DbDlIXgvFYfTs4nB8HVijI/view?usp=sharing\n",
        "\n",
        "3 проходная: https://drive.google.com/file/d/1-C9ymEFjJqTxyulFnQ5yj2B2PJ6311sG/view?usp=sharing"
      ],
      "metadata": {
        "id": "Yw4ceHPoc7Vf"
      },
      "execution_count": null,
      "outputs": []
    }
  ]
}